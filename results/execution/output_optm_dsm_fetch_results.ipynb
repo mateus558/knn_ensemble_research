{
 "cells": [
  {
   "cell_type": "code",
   "execution_count": 26,
   "id": "1d15a865-ccdd-4a96-84bb-d2b199557a9d",
   "metadata": {
    "execution": {
     "iopub.execute_input": "2021-08-23T13:25:15.631028Z",
     "iopub.status.busy": "2021-08-23T13:25:15.630364Z",
     "iopub.status.idle": "2021-08-23T13:25:15.635126Z",
     "shell.execute_reply": "2021-08-23T13:25:15.634031Z",
     "shell.execute_reply.started": "2021-08-23T13:25:15.630998Z"
    },
    "tags": []
   },
   "outputs": [],
   "source": [
    "import pandas as pd"
   ]
  },
  {
   "cell_type": "code",
   "execution_count": 27,
   "id": "e76fc575-0569-4067-adaa-1aabe2eb8956",
   "metadata": {
    "execution": {
     "iopub.execute_input": "2021-08-23T13:25:15.786374Z",
     "iopub.status.busy": "2021-08-23T13:25:15.785687Z",
     "iopub.status.idle": "2021-08-23T13:25:15.793405Z",
     "shell.execute_reply": "2021-08-23T13:25:15.792284Z",
     "shell.execute_reply.started": "2021-08-23T13:25:15.786343Z"
    },
    "tags": []
   },
   "outputs": [],
   "source": [
    "data = pd.read_csv(\"results_qpoptm_only_one_opt_dsm.csv\", skiprows=[0], sep=';')"
   ]
  },
  {
   "cell_type": "code",
   "execution_count": 28,
   "id": "1c83af4f-80af-446f-b03a-7ce8567056f1",
   "metadata": {
    "execution": {
     "iopub.execute_input": "2021-08-23T13:25:15.980359Z",
     "iopub.status.busy": "2021-08-23T13:25:15.979550Z",
     "iopub.status.idle": "2021-08-23T13:25:15.994367Z",
     "shell.execute_reply": "2021-08-23T13:25:15.993332Z",
     "shell.execute_reply.started": "2021-08-23T13:25:15.980328Z"
    },
    "tags": []
   },
   "outputs": [
    {
     "data": {
      "text/html": [
       "<div>\n",
       "<style scoped>\n",
       "    .dataframe tbody tr th:only-of-type {\n",
       "        vertical-align: middle;\n",
       "    }\n",
       "\n",
       "    .dataframe tbody tr th {\n",
       "        vertical-align: top;\n",
       "    }\n",
       "\n",
       "    .dataframe thead th {\n",
       "        text-align: right;\n",
       "    }\n",
       "</style>\n",
       "<table border=\"1\" class=\"dataframe\">\n",
       "  <thead>\n",
       "    <tr style=\"text-align: right;\">\n",
       "      <th></th>\n",
       "      <th>Dataset</th>\n",
       "      <th>k</th>\n",
       "      <th>alpha</th>\n",
       "      <th>accuracy</th>\n",
       "      <th>weights</th>\n",
       "      <th>time</th>\n",
       "    </tr>\n",
       "  </thead>\n",
       "  <tbody>\n",
       "    <tr>\n",
       "      <th>0</th>\n",
       "      <td>bupa</td>\n",
       "      <td>3</td>\n",
       "      <td>0.0</td>\n",
       "      <td>57.800</td>\n",
       "      <td>[0.071, 0.314, 0.000, 0.000, 0.142, 0.179, 0.294]</td>\n",
       "      <td>2.211</td>\n",
       "    </tr>\n",
       "    <tr>\n",
       "      <th>1</th>\n",
       "      <td>ThoraricSurgery</td>\n",
       "      <td>7</td>\n",
       "      <td>0.0</td>\n",
       "      <td>85.106</td>\n",
       "      <td>[0.838, 0.000, 0.000, 0.000, 0.000, 0.000, 0.162]</td>\n",
       "      <td>4.397</td>\n",
       "    </tr>\n",
       "    <tr>\n",
       "      <th>2</th>\n",
       "      <td>ThoraricSurgery</td>\n",
       "      <td>3</td>\n",
       "      <td>0.2</td>\n",
       "      <td>85.106</td>\n",
       "      <td>[0.848, 0.000, 0.066, 0.000, 0.000, 0.000, 0.085]</td>\n",
       "      <td>4.524</td>\n",
       "    </tr>\n",
       "    <tr>\n",
       "      <th>3</th>\n",
       "      <td>ThoraricSurgery</td>\n",
       "      <td>7</td>\n",
       "      <td>0.1</td>\n",
       "      <td>85.106</td>\n",
       "      <td>[0.874, 0.000, 0.126, 0.000, 0.000, 0.000, 0.000]</td>\n",
       "      <td>4.509</td>\n",
       "    </tr>\n",
       "    <tr>\n",
       "      <th>4</th>\n",
       "      <td>ThoraricSurgery</td>\n",
       "      <td>3</td>\n",
       "      <td>0.1</td>\n",
       "      <td>85.106</td>\n",
       "      <td>[0.848, 0.000, 0.066, 0.000, 0.000, 0.000, 0.085]</td>\n",
       "      <td>4.685</td>\n",
       "    </tr>\n",
       "  </tbody>\n",
       "</table>\n",
       "</div>"
      ],
      "text/plain": [
       "           Dataset  k  alpha  accuracy  \\\n",
       "0             bupa  3    0.0    57.800   \n",
       "1  ThoraricSurgery  7    0.0    85.106   \n",
       "2  ThoraricSurgery  3    0.2    85.106   \n",
       "3  ThoraricSurgery  7    0.1    85.106   \n",
       "4  ThoraricSurgery  3    0.1    85.106   \n",
       "\n",
       "                                             weights   time  \n",
       "0  [0.071, 0.314, 0.000, 0.000, 0.142, 0.179, 0.294]  2.211  \n",
       "1  [0.838, 0.000, 0.000, 0.000, 0.000, 0.000, 0.162]  4.397  \n",
       "2  [0.848, 0.000, 0.066, 0.000, 0.000, 0.000, 0.085]  4.524  \n",
       "3  [0.874, 0.000, 0.126, 0.000, 0.000, 0.000, 0.000]  4.509  \n",
       "4  [0.848, 0.000, 0.066, 0.000, 0.000, 0.000, 0.085]  4.685  "
      ]
     },
     "execution_count": 28,
     "metadata": {},
     "output_type": "execute_result"
    }
   ],
   "source": [
    "data.head()"
   ]
  },
  {
   "cell_type": "code",
   "execution_count": 29,
   "id": "fa93ba43-fd1e-4077-bd58-1fa890f1bb9c",
   "metadata": {
    "execution": {
     "iopub.execute_input": "2021-08-23T13:25:16.137985Z",
     "iopub.status.busy": "2021-08-23T13:25:16.137353Z",
     "iopub.status.idle": "2021-08-23T13:25:16.145595Z",
     "shell.execute_reply": "2021-08-23T13:25:16.144510Z",
     "shell.execute_reply.started": "2021-08-23T13:25:16.137958Z"
    },
    "tags": []
   },
   "outputs": [],
   "source": [
    "data = data.sort_values(by=[\"Dataset\", \"k\", \"alpha\"], axis=0)"
   ]
  },
  {
   "cell_type": "code",
   "execution_count": 30,
   "id": "3f2b5393-dc3e-4a53-aa3f-64bd614557b7",
   "metadata": {
    "execution": {
     "iopub.execute_input": "2021-08-23T13:25:16.986717Z",
     "iopub.status.busy": "2021-08-23T13:25:16.985923Z",
     "iopub.status.idle": "2021-08-23T13:25:16.994697Z",
     "shell.execute_reply": "2021-08-23T13:25:16.993397Z",
     "shell.execute_reply.started": "2021-08-23T13:25:16.986691Z"
    },
    "tags": []
   },
   "outputs": [],
   "source": [
    "data.to_csv(\"output_optm_dsm_fetched.csv\", index=False, sep=\";\")"
   ]
  }
 ],
 "metadata": {
  "kernelspec": {
   "display_name": "Python 3 (ipykernel)",
   "language": "python",
   "name": "python3"
  },
  "language_info": {
   "codemirror_mode": {
    "name": "ipython",
    "version": 3
   },
   "file_extension": ".py",
   "mimetype": "text/x-python",
   "name": "python",
   "nbconvert_exporter": "python",
   "pygments_lexer": "ipython3",
   "version": "3.9.6"
  }
 },
 "nbformat": 4,
 "nbformat_minor": 5
}
