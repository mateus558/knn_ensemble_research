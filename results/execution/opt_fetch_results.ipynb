{
 "cells": [
  {
   "cell_type": "code",
   "execution_count": 24,
   "id": "d24b34a5",
   "metadata": {},
   "outputs": [],
   "source": [
    "import pandas as pd\n",
    "import os"
   ]
  },
  {
   "cell_type": "code",
   "execution_count": 29,
   "id": "28e17173",
   "metadata": {},
   "outputs": [],
   "source": [
    "out_dir = \"knn_optm_res\"\n",
    "if not os.path.isdir(out_dir):\n",
    "    os.mkdir(out_dir)"
   ]
  },
  {
   "cell_type": "code",
   "execution_count": 8,
   "id": "edcd9f82",
   "metadata": {},
   "outputs": [],
   "source": [
    "data = pd.read_csv(\"results_qpoptm.csv\", sep=\";\", skiprows=[0])"
   ]
  },
  {
   "cell_type": "code",
   "execution_count": 20,
   "id": "24bc2089",
   "metadata": {},
   "outputs": [
    {
     "data": {
      "text/html": [
       "<div>\n",
       "<style scoped>\n",
       "    .dataframe tbody tr th:only-of-type {\n",
       "        vertical-align: middle;\n",
       "    }\n",
       "\n",
       "    .dataframe tbody tr th {\n",
       "        vertical-align: top;\n",
       "    }\n",
       "\n",
       "    .dataframe thead th {\n",
       "        text-align: right;\n",
       "    }\n",
       "</style>\n",
       "<table border=\"1\" class=\"dataframe\">\n",
       "  <thead>\n",
       "    <tr style=\"text-align: right;\">\n",
       "      <th></th>\n",
       "      <th>Dataset</th>\n",
       "      <th>k</th>\n",
       "      <th>accuracy</th>\n",
       "      <th>weights</th>\n",
       "    </tr>\n",
       "  </thead>\n",
       "  <tbody>\n",
       "    <tr>\n",
       "      <th>0</th>\n",
       "      <td>bupa</td>\n",
       "      <td>7</td>\n",
       "      <td>68.0714</td>\n",
       "      <td>[0.10441, 0, 0.247984, 0, 0.241582, 0.104537, ...</td>\n",
       "    </tr>\n",
       "    <tr>\n",
       "      <th>1</th>\n",
       "      <td>bupa</td>\n",
       "      <td>5</td>\n",
       "      <td>67.1286</td>\n",
       "      <td>[0.115323, 0, 0.260345, 0, 0.208244, 0.13878, ...</td>\n",
       "    </tr>\n",
       "    <tr>\n",
       "      <th>2</th>\n",
       "      <td>bupa</td>\n",
       "      <td>3</td>\n",
       "      <td>65.1000</td>\n",
       "      <td>[0.164665, 0.0879094, 0.0939043, 0.0722381, 0....</td>\n",
       "    </tr>\n",
       "    <tr>\n",
       "      <th>3</th>\n",
       "      <td>sonar</td>\n",
       "      <td>5</td>\n",
       "      <td>81.6587</td>\n",
       "      <td>[0.223666, 0, 0.08243, 0, 0.131616, 0.0978475,...</td>\n",
       "    </tr>\n",
       "    <tr>\n",
       "      <th>4</th>\n",
       "      <td>sonar</td>\n",
       "      <td>3</td>\n",
       "      <td>81.3492</td>\n",
       "      <td>[0.144479, 0, 0.0433279, 0, 0.254818, 0.221739...</td>\n",
       "    </tr>\n",
       "  </tbody>\n",
       "</table>\n",
       "</div>"
      ],
      "text/plain": [
       "  Dataset  k  accuracy                                            weights\n",
       "0    bupa  7   68.0714  [0.10441, 0, 0.247984, 0, 0.241582, 0.104537, ...\n",
       "1    bupa  5   67.1286  [0.115323, 0, 0.260345, 0, 0.208244, 0.13878, ...\n",
       "2    bupa  3   65.1000  [0.164665, 0.0879094, 0.0939043, 0.0722381, 0....\n",
       "3   sonar  5   81.6587  [0.223666, 0, 0.08243, 0, 0.131616, 0.0978475,...\n",
       "4   sonar  3   81.3492  [0.144479, 0, 0.0433279, 0, 0.254818, 0.221739..."
      ]
     },
     "execution_count": 20,
     "metadata": {},
     "output_type": "execute_result"
    }
   ],
   "source": [
    "data = data.drop('time', axis=1)\n",
    "data.head()"
   ]
  },
  {
   "cell_type": "code",
   "execution_count": 21,
   "id": "9c6677ec",
   "metadata": {},
   "outputs": [],
   "source": [
    "k_groups = data.groupby(by=[\"k\"]).groups"
   ]
  },
  {
   "cell_type": "code",
   "execution_count": 33,
   "id": "99dec65c",
   "metadata": {},
   "outputs": [],
   "source": [
    "for key, items in k_groups.items():\n",
    "    k_res = data.iloc[items] \n",
    "    k_res.to_csv(out_dir+f\"/{key}_{out_dir}.csv\")"
   ]
  }
 ],
 "metadata": {
  "kernelspec": {
   "display_name": "Python 3",
   "language": "python",
   "name": "python3"
  },
  "language_info": {
   "codemirror_mode": {
    "name": "ipython",
    "version": 3
   },
   "file_extension": ".py",
   "mimetype": "text/x-python",
   "name": "python",
   "nbconvert_exporter": "python",
   "pygments_lexer": "ipython3",
   "version": "3.8.8"
  }
 },
 "nbformat": 4,
 "nbformat_minor": 5
}
